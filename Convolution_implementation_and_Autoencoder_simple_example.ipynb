{
  "nbformat": 4,
  "nbformat_minor": 0,
  "metadata": {
    "colab": {
      "provenance": [],
      "gpuType": "T4"
    },
    "kernelspec": {
      "name": "python3",
      "display_name": "Python 3"
    },
    "language_info": {
      "name": "python"
    },
    "accelerator": "GPU"
  },
  "cells": [
    {
      "cell_type": "code",
      "execution_count": 1,
      "metadata": {
        "id": "op3RiQciLkgJ"
      },
      "outputs": [],
      "source": [
        "import tensorflow as tf\n",
        "from tensorflow import keras\n",
        "import matplotlib.pyplot as plt\n",
        "import numpy as np\n",
        "from tensorflow.keras import layers\n",
        "from tensorflow.keras.datasets import mnist\n",
        "from tensorflow.keras.layers import Conv2D,MaxPooling2D,Flatten,Input,Dense,Conv2DTranspose"
      ]
    },
    {
      "cell_type": "code",
      "source": [
        "class TfConv2D(tf.Module):\n",
        "    def __init__(self, kernel=(3, 3), channels=1, strides=(2, 2), padding='SAME', activate=\"relu\"):\n",
        "        super().__init__()\n",
        "        self.kernel = kernel\n",
        "        self.channels = channels\n",
        "        self.strides = strides\n",
        "        self.padding = padding\n",
        "        self.activate = activate\n",
        "        self.fl_init = False\n",
        "\n",
        "    def __call__(self, x):\n",
        "        if not self.fl_init:\n",
        "            self.w = tf.random.truncated_normal((*self.kernel, x.shape[-1], self.channels),dtype = tf.double ,stddev=0.1)\n",
        "            self.b = tf.zeros([self.channels], dtype=tf.double)\n",
        "            print(self.w)\n",
        "\n",
        "            self.w = tf.Variable(self.w)\n",
        "            self.b = tf.Variable(self.b)\n",
        "\n",
        "            self.fl_init = True\n",
        "\n",
        "        y = tf.nn.conv2d(x, self.w, strides=(1, *self.strides, 1), padding=self.padding)\n",
        "\n",
        "        if self.activate == \"relu\":\n",
        "            return tf.nn.relu(y)\n",
        "        elif self.activate == \"softmax\":\n",
        "            return tf.nn.softmax(y)\n",
        "\n",
        "        return y\n"
      ],
      "metadata": {
        "id": "oaX7gG3qL0Yo"
      },
      "execution_count": 2,
      "outputs": []
    },
    {
      "cell_type": "code",
      "source": [
        "## Autoencoder"
      ],
      "metadata": {
        "id": "7Q0VpbI_MHnB"
      },
      "execution_count": 3,
      "outputs": []
    },
    {
      "cell_type": "code",
      "source": [
        "enc_input = Input(shape=(28, 28, 1))\n",
        "x = Conv2D(32, 3, activation='relu')(enc_input)\n",
        "x = MaxPooling2D(2, padding='same')(x)\n",
        "x = Conv2D(64, 3, activation='relu')(x)\n",
        "x = MaxPooling2D(2, padding='same')(x)\n",
        "x = Flatten()(x)\n",
        "enc_output = Dense(8, activation='linear')(x)\n",
        "\n",
        "enc_model = keras.Model(enc_input, enc_output, name=\"encoder\")\n",
        "#enc_model.summary()"
      ],
      "metadata": {
        "id": "1IzIPxYxMKks"
      },
      "execution_count": 6,
      "outputs": []
    },
    {
      "cell_type": "code",
      "source": [
        "dec_input = tf.keras.Input(shape = (8,))\n",
        "x = tf.keras.layers.Dense(7*7*8)(dec_input)\n",
        "x = tf.keras.layers.Reshape((7,7,8))(x)\n",
        "x = tf.keras.layers.Conv2DTranspose(64,5,strides =(2,2),padding = 'same' )(x)\n",
        "x = tf.keras.layers.BatchNormalization()(x)\n",
        "x = Conv2DTranspose(32,5,(2,2),padding = 'same')(x)\n",
        "x = tf.keras.layers.BatchNormalization()(x)\n",
        "dec_output = Conv2DTranspose(1,3,padding = 'same')(x)\n",
        "\n",
        "dec_model = tf.keras.Model(dec_input,dec_output)\n",
        "#dec_model.summary()"
      ],
      "metadata": {
        "id": "90L5nemmMXnG"
      },
      "execution_count": 7,
      "outputs": []
    },
    {
      "cell_type": "code",
      "source": [
        "aec_input = tf.keras.Input((28,28,1))\n",
        "x= enc_model(aec_input)\n",
        "aec_output = dec_model(x)\n",
        "aec = keras.Model(aec_input,aec_output)\n"
      ],
      "metadata": {
        "id": "eOLtHzddMum6"
      },
      "execution_count": 8,
      "outputs": []
    },
    {
      "cell_type": "code",
      "source": [
        "(x_train, y_train), (x_test, y_test) = mnist.load_data()\n",
        "\n",
        "x_train = x_train.astype(\"float32\") / 255.0\n",
        "x_test = x_test.astype(\"float32\") / 255.0\n",
        "y_train = keras.utils.to_categorical(y_train, 10)\n",
        "y_test = keras.utils.to_categorical(y_test, 10)"
      ],
      "metadata": {
        "colab": {
          "base_uri": "https://localhost:8080/"
        },
        "id": "aMYLTCLwNF8k",
        "outputId": "2b64274c-477b-4713-f204-e973c1370c9a"
      },
      "execution_count": 9,
      "outputs": [
        {
          "output_type": "stream",
          "name": "stdout",
          "text": [
            "Downloading data from https://storage.googleapis.com/tensorflow/tf-keras-datasets/mnist.npz\n",
            "11490434/11490434 [==============================] - 0s 0us/step\n"
          ]
        }
      ]
    },
    {
      "cell_type": "code",
      "source": [
        "aec.compile(optimizer='adam', loss='mean_squared_error')\n",
        "aec.fit(x_train,x_train,batch_size = 32, epochs = 1)"
      ],
      "metadata": {
        "id": "nAI9VbtrM7US",
        "colab": {
          "base_uri": "https://localhost:8080/"
        },
        "outputId": "428b2bd7-4270-49f0-d2e8-22333f8deaf0"
      },
      "execution_count": 10,
      "outputs": [
        {
          "output_type": "stream",
          "name": "stdout",
          "text": [
            "1875/1875 [==============================] - 34s 8ms/step - loss: 0.0453\n"
          ]
        },
        {
          "output_type": "execute_result",
          "data": {
            "text/plain": [
              "<keras.src.callbacks.History at 0x7a68bd866410>"
            ]
          },
          "metadata": {},
          "execution_count": 10
        }
      ]
    },
    {
      "cell_type": "code",
      "source": [
        "img = aec.predict(tf.expand_dims(x_test[1221],axis = 0))\n",
        "plt.subplot(121)\n",
        "plt.imshow(x_test[1221],cmap = 'gray')\n",
        "plt.subplot(122)\n",
        "plt.imshow(img.squeeze(),cmap = 'gray')"
      ],
      "metadata": {
        "colab": {
          "base_uri": "https://localhost:8080/",
          "height": 322
        },
        "id": "gWsQ7LO_QP5z",
        "outputId": "aef5facf-3bd1-467c-bfca-38ac47b9ff3d"
      },
      "execution_count": 17,
      "outputs": [
        {
          "output_type": "stream",
          "name": "stdout",
          "text": [
            "1/1 [==============================] - 0s 75ms/step\n"
          ]
        },
        {
          "output_type": "execute_result",
          "data": {
            "text/plain": [
              "<matplotlib.image.AxesImage at 0x7a68761d7220>"
            ]
          },
          "metadata": {},
          "execution_count": 17
        },
        {
          "output_type": "display_data",
          "data": {
            "text/plain": [
              "<Figure size 640x480 with 2 Axes>"
            ],
            "image/png": "[encoded data removed]"
          },
          "metadata": {}
        }
      ]
    }
  ]
}